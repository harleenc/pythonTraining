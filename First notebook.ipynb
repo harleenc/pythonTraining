{
 "metadata": {
  "name": "",
  "signature": "sha256:2ef8edc59e59051d8707f4d2f4b1a045272e649d75b1c75472b37f501222cce0"
 },
 "nbformat": 3,
 "nbformat_minor": 0,
 "worksheets": [
  {
   "cells": [
    {
     "cell_type": "code",
     "collapsed": false,
     "input": [
      "%pylab inline\n"
     ],
     "language": "python",
     "metadata": {},
     "outputs": [
      {
       "output_type": "stream",
       "stream": "stdout",
       "text": [
        "Populating the interactive namespace from numpy and matplotlib\n"
       ]
      }
     ],
     "prompt_number": 2
    },
    {
     "cell_type": "code",
     "collapsed": false,
     "input": [
      "d = arange(10)\n",
      "s = 'abcdefghij'\n",
      "\n",
      "print d[1:3]\n",
      "print d[:3], d[0:3]\n",
      "print d[3:10], d[3:]\n",
      "print d[0:10:2], d[::2]\n",
      "\"\"\"I tried to fix this but I don't know how!\"\"\"\n",
      "print d[-1::-1], d[::-1], d[:10:-1]\n",
      "\n",
      "\"\"\"Index slicing on the d array. Format:  'start:end:step' \"\"\"\n",
      "print [str(num)+character for num,character in zip(d[-3:],s)] \n",
      "print [str(num)+character for num,character in zip(d,s)]\n",
      "\n",
      "'''[] make the command a list'''\n",
      "print [str(num)+character for num,character in zip(d[:3],s)] \n",
      "\n",
      "''' str(num)+character creates each element in the list as a string type. The for loop is a list comprehension because of the brackets\n",
      "around the statement. The for statement is also like a map, one line function.'''\n",
      "\n",
      "thelist = []\n",
      "for tmp in zip(d,s): #tmp is a tuple\n",
      "    print tmp\n",
      "    thelist.append(str(tmp[0])+tmp[1])\n",
      "    \n",
      "print thelist\n",
      "\n",
      "j,k = (4,5)\n",
      "\n",
      "\n"
     ],
     "language": "python",
     "metadata": {},
     "outputs": [
      {
       "output_type": "stream",
       "stream": "stdout",
       "text": [
        "[1 2]\n",
        "[0 1 2] [0 1 2]\n",
        "[3 4 5 6 7 8 9] [3 4 5 6 7 8 9]\n",
        "[0 2 4 6 8] [0 2 4 6 8]\n",
        "[9 8 7 6 5 4 3 2 1 0] [9 8 7 6 5 4 3 2 1 0] []\n",
        "['7a', '8b', '9c']\n",
        "['0a', '1b', '2c', '3d', '4e', '5f', '6g', '7h', '8i', '9j']\n",
        "['0a', '1b', '2c']\n",
        "(0, 'a')\n",
        "(1, 'b')\n",
        "(2, 'c')\n",
        "(3, 'd')\n",
        "(4, 'e')\n",
        "(5, 'f')\n",
        "(6, 'g')\n",
        "(7, 'h')\n",
        "(8, 'i')\n",
        "(9, 'j')\n",
        "['0a', '1b', '2c', '3d', '4e', '5f', '6g', '7h', '8i', '9j']\n"
       ]
      }
     ],
     "prompt_number": 4
    },
    {
     "cell_type": "code",
     "collapsed": false,
     "input": [],
     "language": "python",
     "metadata": {},
     "outputs": [],
     "prompt_number": 14
    }
   ],
   "metadata": {}
  }
 ]
}